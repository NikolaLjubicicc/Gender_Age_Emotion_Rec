{
  "nbformat": 4,
  "nbformat_minor": 0,
  "metadata": {
    "colab": {
      "provenance": [],
      "authorship_tag": "ABX9TyMJMuSFwMc6t5QM6P55dYA7",
      "include_colab_link": true
    },
    "kernelspec": {
      "name": "python3",
      "display_name": "Python 3"
    },
    "language_info": {
      "name": "python"
    }
  },
  "cells": [
    {
      "cell_type": "markdown",
      "metadata": {
        "id": "view-in-github",
        "colab_type": "text"
      },
      "source": [
        "<a href=\"https://colab.research.google.com/github/NikolaLjubicicc/Gender_Age_Emotion_Rec/blob/main/IT44_2021_PPPO.ipynb\" target=\"_parent\"><img src=\"https://colab.research.google.com/assets/colab-badge.svg\" alt=\"Open In Colab\"/></a>"
      ]
    },
    {
      "cell_type": "code",
      "execution_count": 2,
      "metadata": {
        "id": "zNLlp9ij59Sp"
      },
      "outputs": [],
      "source": [
        "!unzip -q Faces_AgeGenderEmotionDetection.zip -d FacesAgeGenderEmotionDetection"
      ]
    },
    {
      "cell_type": "code",
      "source": [
        "!pip install mtcnn opencv-python"
      ],
      "metadata": {
        "colab": {
          "base_uri": "https://localhost:8080/"
        },
        "id": "v71lnEls6IX5",
        "outputId": "c44788d2-2d4d-4fae-d829-b8ce29078f9f"
      },
      "execution_count": 3,
      "outputs": [
        {
          "output_type": "stream",
          "name": "stdout",
          "text": [
            "Collecting mtcnn\n",
            "  Downloading mtcnn-1.0.0-py3-none-any.whl.metadata (5.8 kB)\n",
            "Requirement already satisfied: opencv-python in /usr/local/lib/python3.11/dist-packages (4.12.0.88)\n",
            "Requirement already satisfied: joblib>=1.4.2 in /usr/local/lib/python3.11/dist-packages (from mtcnn) (1.5.1)\n",
            "Collecting lz4>=4.3.3 (from mtcnn)\n",
            "  Downloading lz4-4.4.4-cp311-cp311-manylinux_2_17_x86_64.manylinux2014_x86_64.whl.metadata (3.8 kB)\n",
            "Requirement already satisfied: numpy<2.3.0,>=2 in /usr/local/lib/python3.11/dist-packages (from opencv-python) (2.0.2)\n",
            "Downloading mtcnn-1.0.0-py3-none-any.whl (1.9 MB)\n",
            "\u001b[2K   \u001b[90m━━━━━━━━━━━━━━━━━━━━━━━━━━━━━━━━━━━━━━━━\u001b[0m \u001b[32m1.9/1.9 MB\u001b[0m \u001b[31m23.1 MB/s\u001b[0m eta \u001b[36m0:00:00\u001b[0m\n",
            "\u001b[?25hDownloading lz4-4.4.4-cp311-cp311-manylinux_2_17_x86_64.manylinux2014_x86_64.whl (1.3 MB)\n",
            "\u001b[2K   \u001b[90m━━━━━━━━━━━━━━━━━━━━━━━━━━━━━━━━━━━━━━━━\u001b[0m \u001b[32m1.3/1.3 MB\u001b[0m \u001b[31m45.1 MB/s\u001b[0m eta \u001b[36m0:00:00\u001b[0m\n",
            "\u001b[?25hInstalling collected packages: lz4, mtcnn\n",
            "Successfully installed lz4-4.4.4 mtcnn-1.0.0\n"
          ]
        }
      ]
    },
    {
      "cell_type": "code",
      "source": [
        "import json, pandas as pd, os\n",
        "import tensorflow as tf\n",
        "from tensorflow.keras import Model, layers, Input\n",
        "from tensorflow.keras.layers import Conv2D, BatchNormalization, Activation, MaxPool2D, Dense, GlobalAveragePooling2D\n",
        "from tensorflow.keras.optimizers import Adam\n",
        "from mtcnn import MTCNN\n",
        "import dlib, cv2, numpy as np\n",
        "from glob import glob\n",
        "from tensorflow.keras.layers import Resizing, RandomCrop"
      ],
      "metadata": {
        "id": "Ls0gWL_WBVTq"
      },
      "execution_count": 4,
      "outputs": []
    },
    {
      "cell_type": "code",
      "source": [
        "with open(\"/content/labels_model_2025-07-02-03-12-48.json\") as f:\n",
        "    train_recs = json.load(f)\n",
        "with open(\"/content/labels_model_val_2025-07-03-03-31-03.json\") as f:\n",
        "    val_recs   = json.load(f)\n",
        "BASE = \"/content/FacesAgeGenderEmotionDetection/data\"\n",
        "\n",
        "file_map = {}\n",
        "for split in (\"train\",\"val\"):\n",
        "    split_dir = os.path.join(BASE, split)\n",
        "    for act in os.listdir(split_dir):\n",
        "        act_dir = os.path.join(split_dir, act)\n",
        "        if not os.path.isdir(act_dir):\n",
        "            continue\n",
        "        for img in os.listdir(act_dir):\n",
        "            file_map[img] = os.path.join(act_dir, img)\n",
        "\n",
        "A_G_E = []\n",
        "for rec in train_recs:\n",
        "    fn = rec[\"image\"]\n",
        "    full_path = file_map.get(fn)\n",
        "    if full_path is None:\n",
        "        raise FileNotFoundError(f\"'{fn}' nije pronađen u pod-folderima!\")\n",
        "    age, gender, emotion = [s.strip() for s in rec[\"annotations\"][0].split(\",\")]\n",
        "    A_G_E.append({\n",
        "      \"filepath\": full_path,\n",
        "      \"age\": int(age),\n",
        "      \"gender\": 0 if gender==\"M\" else 1,\n",
        "      \"emotion\": emotion.lower(),\n",
        "      \"split\": \"train\"\n",
        "    })\n",
        "for rec in val_recs:\n",
        "    fn = rec[\"image\"]\n",
        "    full = file_map.get(fn)\n",
        "    if full is None:\n",
        "        raise FileNotFoundError(fn)\n",
        "    age, gender, emotion = [s.strip() for s in rec[\"annotations\"][0].split(\",\")]\n",
        "    A_G_E.append({\n",
        "        \"filepath\": full,\n",
        "        \"age\": int(age),\n",
        "        \"gender\": 0 if gender==\"M\" else 1,\n",
        "        \"emotion\": emotion.lower(),\n",
        "        \"split\": \"val\"\n",
        "    })\n",
        "\n",
        "frame = pd.DataFrame(A_G_E)\n",
        "\n",
        "\n",
        "train_df = frame[frame.split==\"train\"].reset_index(drop=True)\n",
        "val_df   = frame[frame.split==\"val\"].reset_index(drop=True)\n",
        "\n",
        "# Konstante\n",
        "emotions    = sorted(frame[\"emotion\"].unique())\n",
        "em2idx      = {e:i for i,e in enumerate(emotions)}\n",
        "num_age = 80\n",
        "age_bin = 10 #\n",
        "age_groups = (num_age + age_bin - 1) // age_bin\n",
        "num_gender  = 2\n",
        "num_emotion = len(emotions)\n",
        "img_size    = 64\n",
        "BATCH       = 16\n",
        "detector = MTCNN()\n",
        "\n",
        "data_augmentation = tf.keras.Sequential([\n",
        "    layers.RandomFlip(\"horizontal\"),\n",
        "    layers.RandomRotation(0.4),\n",
        "    layers.RandomZoom(height_factor=0.4, width_factor=0.2),\n",
        "    layers.RandomContrast(0.2),\n",
        "    layers.RandomContrast(factor=0.3),\n",
        "    layers.RandomTranslation(height_factor=0.3, width_factor=0.3),\n",
        "\n",
        "], name=\"data_augmentation\")\n",
        "\n",
        "def detect_and_crop(path):\n",
        "    # path je bajt string, konvertujemo u str\n",
        "    path = path.numpy().decode('utf-8')\n",
        "    # Ucitavanje\n",
        "    img_bgr = cv2.imread(path)\n",
        "    if img_bgr is None:\n",
        "        # Pravi se crna slika da ne izbacuje gresku, ako se slika ne ucita\n",
        "        img_bgr = np.zeros((img_size, img_size, 3), dtype=np.uint8)\n",
        "\n",
        "    img = cv2.cvtColor(img_bgr, cv2.COLOR_BGR2RGB) # Konvertovanje u RGB\n",
        "\n",
        "    # Detektovanje lica\n",
        "    results = detector.detect_faces(img)\n",
        "    if results:\n",
        "        x, y, w, h = results[0]['box']\n",
        "        x, y = max(0, x), max(0, y)\n",
        "        face = img[y:y+h, x:x+w]\n",
        "    else:\n",
        "        # Ako nema detekcije, koristi celu sliku\n",
        "        face = img\n",
        "\n",
        "    # resize\n",
        "    face = cv2.resize(face, (img_size, img_size))\n",
        "\n",
        "    face = face.astype(np.float32) / 255.0\n",
        "    return face\n",
        "def parse_fn(path, age, gender, emo):\n",
        "    # učitavanje i resize\n",
        "    img = tf.py_function(func=detect_and_crop,inp=[path], Tout=tf.float32)\n",
        "    img.set_shape((img_size, img_size, 3))\n",
        "    age_group = age // age_bin\n",
        "\n",
        "    age_group = tf.clip_by_value(age_group, 0, age_groups-1)\n",
        "\n",
        "    # Enkodiranje tabela\n",
        "    y_age     = tf.one_hot(age_group, age_groups)\n",
        "    y_gender  = tf.one_hot(gender, num_gender)\n",
        "    y_emotion = tf.one_hot(emo,    num_emotion)\n",
        "\n",
        "    return img, {\"age\": y_age, \"gender\": y_gender, \"emotion\": y_emotion}\n",
        "\n",
        "\n",
        "def create(sub_df, shuffle=True):\n",
        "    ds = tf.data.Dataset.from_tensor_slices((\n",
        "        sub_df[\"filepath\"].values,\n",
        "        sub_df[\"age\"].values,\n",
        "        sub_df[\"gender\"].values,\n",
        "        sub_df[\"emotion\"].map(em2idx).values\n",
        "    ))\n",
        "    if shuffle and len(sub_df) > 1:\n",
        "        ds = ds.shuffle(len(sub_df))\n",
        "    ds = ds.map(parse_fn, num_parallel_calls=tf.data.AUTOTUNE)\n",
        "    ds = ds.batch(BATCH).prefetch(tf.data.AUTOTUNE)\n",
        "    return ds\n",
        "\n",
        "# Splitovanje podataka u train i val setove\n",
        "train_ds = create(train_df, shuffle=True).repeat()\n",
        "val_ds   = create(val_df,   shuffle=False)\n",
        "\n",
        "def cnn(input_shape=(img_size,img_size,3)):\n",
        "    x_in = layers.Input(shape=input_shape)\n",
        "    x = data_augmentation(x_in)\n",
        "    # Blok 1\n",
        "    x = layers.Conv2D(16, 3, padding=\"same\")(x_in)\n",
        "    x = layers.BatchNormalization()(x) #Normalizovanje\n",
        "    x = layers.Activation(\"relu\")(x) #Primena ReLu aktivacionog sloja\n",
        "    x = layers.MaxPool2D(2)(x)   #MaxPooling sazimanje informacija, smanjenje broja paramaetara\n",
        "    # Blok 2\n",
        "    x = layers.Conv2D(32, 3, padding=\"same\")(x)\n",
        "    x = layers.BatchNormalization()(x)\n",
        "    x = layers.Activation(\"relu\")(x)\n",
        "    x = layers.MaxPool2D(2)(x)\n",
        "    # Blok 3\n",
        "    x = layers.Conv2D(64, 3, padding=\"same\")(x)\n",
        "    x = layers.BatchNormalization()(x)\n",
        "    x = layers.Activation(\"relu\")(x)\n",
        "    x = layers.MaxPool2D(2)(x)\n",
        "    # Blok 4\n",
        "    x = layers.Conv2D(128, 3, padding=\"same\")(x)\n",
        "    x = layers.BatchNormalization()(x)\n",
        "    x = layers.Activation(\"relu\")(x)\n",
        "    x = layers.MaxPool2D(2)(x)\n",
        "\n",
        "    x = layers.GlobalAveragePooling2D()(x)\n",
        "\n",
        "    # Gusti sloj\n",
        "    x = layers.Dense(512, activation=\"relu\")(x)\n",
        "    x = layers.Dropout(0.5)(x)  # <- kada sam povecao sa 0.5 na .07 dobijen val loss oko 6.5\n",
        "\n",
        "    x = layers.Dense(256, activation=\"relu\")(x)\n",
        "    x = layers.Dropout(0.5)(x)\n",
        "\n",
        "    # Izlazi\n",
        "    age_output = layers.Dense(age_groups, activation=\"softmax\", name=\"age\")(x)\n",
        "    gender_output = layers.Dense(num_gender, activation=\"softmax\", name=\"gender\")(x)\n",
        "    emotion_output = layers.Dense(num_emotion, activation=\"softmax\", name=\"emotion\")(x)\n",
        "\n",
        "    return Model(inputs=x_in, outputs=[age_output, gender_output, emotion_output])\n",
        "\n",
        "model = cnn()\n",
        "model.compile(\n",
        "    optimizer=Adam(1e-4),\n",
        "    loss={\"age\":\"categorical_crossentropy\", \"gender\":\"categorical_crossentropy\",\n",
        "          \"emotion\":\"categorical_crossentropy\"},\n",
        "    loss_weights={\n",
        "    \"age\": 1.0, #sa 1.0 na 0.5 nije doprinelo poboljsanju rezultata\n",
        "    \"gender\": 1.0,\n",
        "    \"emotion\":1.0\n",
        "  },\n",
        "    metrics={\"age\":\"accuracy\",\"gender\":\"accuracy\",\"emotion\":\"accuracy\"}\n",
        ")\n",
        "\n",
        "\n",
        "callbacks = [\n",
        "    tf.keras.callbacks.ModelCheckpoint(\"model.h5\", save_best_only=True, monitor=\"val_loss\"),\n",
        "    tf.keras.callbacks.EarlyStopping(patience=6, restore_best_weights=True)\n",
        "]\n",
        "\n",
        "history = model.fit(\n",
        "    train_ds,\n",
        "    validation_data=val_ds,\n",
        "    epochs=35,\n",
        "    steps_per_epoch=len(train_df)//BATCH,\n",
        "    validation_steps=len(val_df)//BATCH,\n",
        "    callbacks=callbacks\n",
        ")\n"
      ],
      "metadata": {
        "colab": {
          "base_uri": "https://localhost:8080/"
        },
        "id": "YsC7Mt7X6LRa",
        "outputId": "791605da-5e2c-4109-fe4e-f394cf2d765d"
      },
      "execution_count": 6,
      "outputs": [
        {
          "output_type": "stream",
          "name": "stdout",
          "text": [
            "Epoch 1/35\n",
            "\u001b[1m5/5\u001b[0m \u001b[32m━━━━━━━━━━━━━━━━━━━━\u001b[0m\u001b[37m\u001b[0m \u001b[1m0s\u001b[0m 7s/step - age_accuracy: 0.0479 - age_loss: 2.4807 - emotion_accuracy: 0.3023 - emotion_loss: 1.9404 - gender_accuracy: 0.5900 - gender_loss: 0.6766 - loss: 5.0977"
          ]
        },
        {
          "output_type": "stream",
          "name": "stderr",
          "text": [
            "WARNING:absl:You are saving your model as an HDF5 file via `model.save()` or `keras.saving.save_model(model)`. This file format is considered legacy. We recommend using instead the native Keras format, e.g. `model.save('my_model.keras')` or `keras.saving.save_model(model, 'my_model.keras')`. \n"
          ]
        },
        {
          "output_type": "stream",
          "name": "stdout",
          "text": [
            "\b\b\b\b\b\b\b\b\b\b\b\b\b\b\b\b\b\b\b\b\b\b\b\b\b\b\b\b\b\b\b\b\b\b\b\b\b\b\b\b\b\b\b\b\b\b\b\b\b\b\b\b\b\b\b\b\b\b\b\b\b\b\b\b\b\b\b\b\b\b\b\b\b\b\b\b\b\b\b\b\b\b\b\b\b\b\b\b\b\b\b\b\b\b\b\b\b\b\b\b\b\b\b\b\b\b\b\b\b\b\b\b\b\b\b\b\b\b\b\b\b\b\b\b\b\b\b\b\b\b\b\b\b\b\b\b\b\b\b\b\b\b\b\b\b\b\b\b\b\b\b\b\b\b\b\b\b\b\b\b\b\b\b\b\b\b\b\b\b\b\b\b\b\b\b\b\b\b\b\b\b\b\b\b\b\b\b\b\b\b\r\u001b[1m5/5\u001b[0m \u001b[32m━━━━━━━━━━━━━━━━━━━━\u001b[0m\u001b[37m\u001b[0m \u001b[1m63s\u001b[0m 10s/step - age_accuracy: 0.0503 - age_loss: 2.4830 - emotion_accuracy: 0.2998 - emotion_loss: 1.9437 - gender_accuracy: 0.5875 - gender_loss: 0.6759 - loss: 5.1026 - val_age_accuracy: 0.0000e+00 - val_age_loss: 2.0750 - val_emotion_accuracy: 0.2500 - val_emotion_loss: 1.6074 - val_gender_accuracy: 0.1250 - val_gender_loss: 0.6992 - val_loss: 4.3817\n",
            "Epoch 2/35\n",
            "\u001b[1m5/5\u001b[0m \u001b[32m━━━━━━━━━━━━━━━━━━━━\u001b[0m\u001b[37m\u001b[0m \u001b[1m0s\u001b[0m 6s/step - age_accuracy: 0.1033 - age_loss: 2.5303 - emotion_accuracy: 0.2188 - emotion_loss: 1.6096 - gender_accuracy: 0.5073 - gender_loss: 0.7332 - loss: 4.8639"
          ]
        },
        {
          "output_type": "stream",
          "name": "stderr",
          "text": [
            "WARNING:absl:You are saving your model as an HDF5 file via `model.save()` or `keras.saving.save_model(model)`. This file format is considered legacy. We recommend using instead the native Keras format, e.g. `model.save('my_model.keras')` or `keras.saving.save_model(model, 'my_model.keras')`. \n"
          ]
        },
        {
          "output_type": "stream",
          "name": "stdout",
          "text": [
            "\b\b\b\b\b\b\b\b\b\b\b\b\b\b\b\b\b\b\b\b\b\b\b\b\b\b\b\b\b\b\b\b\b\b\b\b\b\b\b\b\b\b\b\b\b\b\b\b\b\b\b\b\b\b\b\b\b\b\b\b\b\b\b\b\b\b\b\b\b\b\b\b\b\b\b\b\b\b\b\b\b\b\b\b\b\b\b\b\b\b\b\b\b\b\b\b\b\b\b\b\b\b\b\b\b\b\b\b\b\b\b\b\b\b\b\b\b\b\b\b\b\b\b\b\b\b\b\b\b\b\b\b\b\b\b\b\b\b\b\b\b\b\b\b\b\b\b\b\b\b\b\b\b\b\b\b\b\b\b\b\b\b\b\b\b\b\b\b\b\b\b\b\b\b\b\b\b\b\b\b\b\b\b\b\b\b\b\b\b\b\r\u001b[1m5/5\u001b[0m \u001b[32m━━━━━━━━━━━━━━━━━━━━\u001b[0m\u001b[37m\u001b[0m \u001b[1m40s\u001b[0m 10s/step - age_accuracy: 0.1083 - age_loss: 2.5046 - emotion_accuracy: 0.2156 - emotion_loss: 1.6230 - gender_accuracy: 0.5139 - gender_loss: 0.7297 - loss: 4.8475 - val_age_accuracy: 0.1250 - val_age_loss: 2.0740 - val_emotion_accuracy: 0.2500 - val_emotion_loss: 1.6026 - val_gender_accuracy: 0.5000 - val_gender_loss: 0.6930 - val_loss: 4.3697\n",
            "Epoch 3/35\n",
            "\u001b[1m5/5\u001b[0m \u001b[32m━━━━━━━━━━━━━━━━━━━━\u001b[0m\u001b[37m\u001b[0m \u001b[1m0s\u001b[0m 5s/step - age_accuracy: 0.0835 - age_loss: 2.3178 - emotion_accuracy: 0.3525 - emotion_loss: 1.5921 - gender_accuracy: 0.4561 - gender_loss: 0.8580 - loss: 4.7334"
          ]
        },
        {
          "output_type": "stream",
          "name": "stderr",
          "text": [
            "WARNING:absl:You are saving your model as an HDF5 file via `model.save()` or `keras.saving.save_model(model)`. This file format is considered legacy. We recommend using instead the native Keras format, e.g. `model.save('my_model.keras')` or `keras.saving.save_model(model, 'my_model.keras')`. \n"
          ]
        },
        {
          "output_type": "stream",
          "name": "stdout",
          "text": [
            "\b\b\b\b\b\b\b\b\b\b\b\b\b\b\b\b\b\b\b\b\b\b\b\b\b\b\b\b\b\b\b\b\b\b\b\b\b\b\b\b\b\b\b\b\b\b\b\b\b\b\b\b\b\b\b\b\b\b\b\b\b\b\b\b\b\b\b\b\b\b\b\b\b\b\b\b\b\b\b\b\b\b\b\b\b\b\b\b\b\b\b\b\b\b\b\b\b\b\b\b\b\b\b\b\b\b\b\b\b\b\b\b\b\b\b\b\b\b\b\b\b\b\b\b\b\b\b\b\b\b\b\b\b\b\b\b\b\b\b\b\b\b\b\b\b\b\b\b\b\b\b\b\b\b\b\b\b\b\b\b\b\b\b\b\b\b\b\b\b\b\b\b\b\b\b\b\b\b\b\b\b\b\b\b\b\b\b\b\b\b\r\u001b[1m5/5\u001b[0m \u001b[32m━━━━━━━━━━━━━━━━━━━━\u001b[0m\u001b[37m\u001b[0m \u001b[1m38s\u001b[0m 9s/step - age_accuracy: 0.0896 - age_loss: 2.3173 - emotion_accuracy: 0.3537 - emotion_loss: 1.5896 - gender_accuracy: 0.4712 - gender_loss: 0.8527 - loss: 4.7254 - val_age_accuracy: 0.1250 - val_age_loss: 2.0754 - val_emotion_accuracy: 0.2500 - val_emotion_loss: 1.5978 - val_gender_accuracy: 0.8750 - val_gender_loss: 0.6775 - val_loss: 4.3508\n",
            "Epoch 4/35\n",
            "\u001b[1m5/5\u001b[0m \u001b[32m━━━━━━━━━━━━━━━━━━━━\u001b[0m\u001b[37m\u001b[0m \u001b[1m0s\u001b[0m 223ms/step - age_accuracy: 0.2184 - age_loss: 1.9634 - emotion_accuracy: 0.3119 - emotion_loss: 1.5934 - gender_accuracy: 0.5203 - gender_loss: 0.7875 - loss: 4.3378"
          ]
        },
        {
          "output_type": "stream",
          "name": "stderr",
          "text": [
            "WARNING:absl:You are saving your model as an HDF5 file via `model.save()` or `keras.saving.save_model(model)`. This file format is considered legacy. We recommend using instead the native Keras format, e.g. `model.save('my_model.keras')` or `keras.saving.save_model(model, 'my_model.keras')`. \n"
          ]
        },
        {
          "output_type": "stream",
          "name": "stdout",
          "text": [
            "\b\b\b\b\b\b\b\b\b\b\b\b\b\b\b\b\b\b\b\b\b\b\b\b\b\b\b\b\b\b\b\b\b\b\b\b\b\b\b\b\b\b\b\b\b\b\b\b\b\b\b\b\b\b\b\b\b\b\b\b\b\b\b\b\b\b\b\b\b\b\b\b\b\b\b\b\b\b\b\b\b\b\b\b\b\b\b\b\b\b\b\b\b\b\b\b\b\b\b\b\b\b\b\b\b\b\b\b\b\b\b\b\b\b\b\b\b\b\b\b\b\b\b\b\b\b\b\b\b\b\b\b\b\b\b\b\b\b\b\b\b\b\b\b\b\b\b\b\b\b\b\b\b\b\b\b\b\b\b\b\b\b\b\b\b\b\b\b\b\b\b\b\b\b\b\b\b\b\b\b\b\b\b\b\b\b\b\b\b\b\b\b\b\r\u001b[1m5/5\u001b[0m \u001b[32m━━━━━━━━━━━━━━━━━━━━\u001b[0m\u001b[37m\u001b[0m \u001b[1m10s\u001b[0m 2s/step - age_accuracy: 0.2176 - age_loss: 1.9796 - emotion_accuracy: 0.3088 - emotion_loss: 1.5936 - gender_accuracy: 0.5247 - gender_loss: 0.7814 - loss: 4.3482 - val_age_accuracy: 0.1875 - val_age_loss: 2.0711 - val_emotion_accuracy: 0.2500 - val_emotion_loss: 1.5916 - val_gender_accuracy: 0.8750 - val_gender_loss: 0.6659 - val_loss: 4.3286\n",
            "Epoch 5/35\n",
            "\u001b[1m5/5\u001b[0m \u001b[32m━━━━━━━━━━━━━━━━━━━━\u001b[0m\u001b[37m\u001b[0m \u001b[1m0s\u001b[0m 3s/step - age_accuracy: 0.2014 - age_loss: 2.0754 - emotion_accuracy: 0.3417 - emotion_loss: 1.5930 - gender_accuracy: 0.5074 - gender_loss: 0.7744 - loss: 4.4502"
          ]
        },
        {
          "output_type": "stream",
          "name": "stderr",
          "text": [
            "WARNING:absl:You are saving your model as an HDF5 file via `model.save()` or `keras.saving.save_model(model)`. This file format is considered legacy. We recommend using instead the native Keras format, e.g. `model.save('my_model.keras')` or `keras.saving.save_model(model, 'my_model.keras')`. \n"
          ]
        },
        {
          "output_type": "stream",
          "name": "stdout",
          "text": [
            "\b\b\b\b\b\b\b\b\b\b\b\b\b\b\b\b\b\b\b\b\b\b\b\b\b\b\b\b\b\b\b\b\b\b\b\b\b\b\b\b\b\b\b\b\b\b\b\b\b\b\b\b\b\b\b\b\b\b\b\b\b\b\b\b\b\b\b\b\b\b\b\b\b\b\b\b\b\b\b\b\b\b\b\b\b\b\b\b\b\b\b\b\b\b\b\b\b\b\b\b\b\b\b\b\b\b\b\b\b\b\b\b\b\b\b\b\b\b\b\b\b\b\b\b\b\b\b\b\b\b\b\b\b\b\b\b\b\b\b\b\b\b\b\b\b\b\b\b\b\b\b\b\b\b\b\b\b\b\b\b\b\b\b\b\b\b\b\b\b\b\b\b\b\b\b\b\b\b\b\b\b\b\b\b\b\b\b\b\b\b\r\u001b[1m5/5\u001b[0m \u001b[32m━━━━━━━━━━━━━━━━━━━━\u001b[0m\u001b[37m\u001b[0m \u001b[1m20s\u001b[0m 5s/step - age_accuracy: 0.2056 - age_loss: 2.0661 - emotion_accuracy: 0.3381 - emotion_loss: 1.5883 - gender_accuracy: 0.5139 - gender_loss: 0.7635 - loss: 4.4261 - val_age_accuracy: 0.3125 - val_age_loss: 2.0664 - val_emotion_accuracy: 0.4375 - val_emotion_loss: 1.5843 - val_gender_accuracy: 0.8750 - val_gender_loss: 0.6570 - val_loss: 4.3077\n",
            "Epoch 6/35\n",
            "\u001b[1m5/5\u001b[0m \u001b[32m━━━━━━━━━━━━━━━━━━━━\u001b[0m\u001b[37m\u001b[0m \u001b[1m0s\u001b[0m 3s/step - age_accuracy: 0.1696 - age_loss: 2.0462 - emotion_accuracy: 0.3433 - emotion_loss: 1.4419 - gender_accuracy: 0.5410 - gender_loss: 0.6971 - loss: 4.1831"
          ]
        },
        {
          "output_type": "stream",
          "name": "stderr",
          "text": [
            "WARNING:absl:You are saving your model as an HDF5 file via `model.save()` or `keras.saving.save_model(model)`. This file format is considered legacy. We recommend using instead the native Keras format, e.g. `model.save('my_model.keras')` or `keras.saving.save_model(model, 'my_model.keras')`. \n"
          ]
        },
        {
          "output_type": "stream",
          "name": "stdout",
          "text": [
            "\b\b\b\b\b\b\b\b\b\b\b\b\b\b\b\b\b\b\b\b\b\b\b\b\b\b\b\b\b\b\b\b\b\b\b\b\b\b\b\b\b\b\b\b\b\b\b\b\b\b\b\b\b\b\b\b\b\b\b\b\b\b\b\b\b\b\b\b\b\b\b\b\b\b\b\b\b\b\b\b\b\b\b\b\b\b\b\b\b\b\b\b\b\b\b\b\b\b\b\b\b\b\b\b\b\b\b\b\b\b\b\b\b\b\b\b\b\b\b\b\b\b\b\b\b\b\b\b\b\b\b\b\b\b\b\b\b\b\b\b\b\b\b\b\b\b\b\b\b\b\b\b\b\b\b\b\b\b\b\b\b\b\b\b\b\b\b\b\b\b\b\b\b\b\b\b\b\b\b\b\b\b\b\b\b\b\b\b\b\b\r\u001b[1m5/5\u001b[0m \u001b[32m━━━━━━━━━━━━━━━━━━━━\u001b[0m\u001b[37m\u001b[0m \u001b[1m21s\u001b[0m 5s/step - age_accuracy: 0.1725 - age_loss: 2.0477 - emotion_accuracy: 0.3439 - emotion_loss: 1.4454 - gender_accuracy: 0.5398 - gender_loss: 0.7041 - loss: 4.1937 - val_age_accuracy: 0.3125 - val_age_loss: 2.0613 - val_emotion_accuracy: 0.3750 - val_emotion_loss: 1.5766 - val_gender_accuracy: 0.8750 - val_gender_loss: 0.6468 - val_loss: 4.2847\n",
            "Epoch 7/35\n",
            "\u001b[1m5/5\u001b[0m \u001b[32m━━━━━━━━━━━━━━━━━━━━\u001b[0m\u001b[37m\u001b[0m \u001b[1m0s\u001b[0m 3s/step - age_accuracy: 0.2665 - age_loss: 1.8179 - emotion_accuracy: 0.4873 - emotion_loss: 1.3679 - gender_accuracy: 0.4969 - gender_loss: 0.8246 - loss: 4.0104"
          ]
        },
        {
          "output_type": "stream",
          "name": "stderr",
          "text": [
            "WARNING:absl:You are saving your model as an HDF5 file via `model.save()` or `keras.saving.save_model(model)`. This file format is considered legacy. We recommend using instead the native Keras format, e.g. `model.save('my_model.keras')` or `keras.saving.save_model(model, 'my_model.keras')`. \n"
          ]
        },
        {
          "output_type": "stream",
          "name": "stdout",
          "text": [
            "\b\b\b\b\b\b\b\b\b\b\b\b\b\b\b\b\b\b\b\b\b\b\b\b\b\b\b\b\b\b\b\b\b\b\b\b\b\b\b\b\b\b\b\b\b\b\b\b\b\b\b\b\b\b\b\b\b\b\b\b\b\b\b\b\b\b\b\b\b\b\b\b\b\b\b\b\b\b\b\b\b\b\b\b\b\b\b\b\b\b\b\b\b\b\b\b\b\b\b\b\b\b\b\b\b\b\b\b\b\b\b\b\b\b\b\b\b\b\b\b\b\b\b\b\b\b\b\b\b\b\b\b\b\b\b\b\b\b\b\b\b\b\b\b\b\b\b\b\b\b\b\b\b\b\b\b\b\b\b\b\b\b\b\b\b\b\b\b\b\b\b\b\b\b\b\b\b\b\b\b\b\b\b\b\b\b\b\b\b\b\r\u001b[1m5/5\u001b[0m \u001b[32m━━━━━━━━━━━━━━━━━━━━\u001b[0m\u001b[37m\u001b[0m \u001b[1m21s\u001b[0m 5s/step - age_accuracy: 0.2575 - age_loss: 1.8290 - emotion_accuracy: 0.4832 - emotion_loss: 1.3669 - gender_accuracy: 0.4974 - gender_loss: 0.8243 - loss: 4.0202 - val_age_accuracy: 0.3125 - val_age_loss: 2.0569 - val_emotion_accuracy: 0.3750 - val_emotion_loss: 1.5687 - val_gender_accuracy: 0.8750 - val_gender_loss: 0.6366 - val_loss: 4.2622\n",
            "Epoch 8/35\n",
            "\u001b[1m5/5\u001b[0m \u001b[32m━━━━━━━━━━━━━━━━━━━━\u001b[0m\u001b[37m\u001b[0m \u001b[1m0s\u001b[0m 3s/step - age_accuracy: 0.3125 - age_loss: 1.9029 - emotion_accuracy: 0.5143 - emotion_loss: 1.2966 - gender_accuracy: 0.6215 - gender_loss: 0.7293 - loss: 3.9009"
          ]
        },
        {
          "output_type": "stream",
          "name": "stderr",
          "text": [
            "WARNING:absl:You are saving your model as an HDF5 file via `model.save()` or `keras.saving.save_model(model)`. This file format is considered legacy. We recommend using instead the native Keras format, e.g. `model.save('my_model.keras')` or `keras.saving.save_model(model, 'my_model.keras')`. \n"
          ]
        },
        {
          "output_type": "stream",
          "name": "stdout",
          "text": [
            "\b\b\b\b\b\b\b\b\b\b\b\b\b\b\b\b\b\b\b\b\b\b\b\b\b\b\b\b\b\b\b\b\b\b\b\b\b\b\b\b\b\b\b\b\b\b\b\b\b\b\b\b\b\b\b\b\b\b\b\b\b\b\b\b\b\b\b\b\b\b\b\b\b\b\b\b\b\b\b\b\b\b\b\b\b\b\b\b\b\b\b\b\b\b\b\b\b\b\b\b\b\b\b\b\b\b\b\b\b\b\b\b\b\b\b\b\b\b\b\b\b\b\b\b\b\b\b\b\b\b\b\b\b\b\b\b\b\b\b\b\b\b\b\b\b\b\b\b\b\b\b\b\b\b\b\b\b\b\b\b\b\b\b\b\b\b\b\b\b\b\b\b\b\b\b\b\b\b\b\b\b\b\b\b\b\b\b\b\b\b\r\u001b[1m5/5\u001b[0m \u001b[32m━━━━━━━━━━━━━━━━━━━━\u001b[0m\u001b[37m\u001b[0m \u001b[1m40s\u001b[0m 10s/step - age_accuracy: 0.3226 - age_loss: 1.8817 - emotion_accuracy: 0.5086 - emotion_loss: 1.3036 - gender_accuracy: 0.6157 - gender_loss: 0.7247 - loss: 3.8827 - val_age_accuracy: 0.3125 - val_age_loss: 2.0534 - val_emotion_accuracy: 0.3750 - val_emotion_loss: 1.5600 - val_gender_accuracy: 0.8750 - val_gender_loss: 0.6279 - val_loss: 4.2413\n",
            "Epoch 9/35\n",
            "\u001b[1m5/5\u001b[0m \u001b[32m━━━━━━━━━━━━━━━━━━━━\u001b[0m\u001b[37m\u001b[0m \u001b[1m0s\u001b[0m 201ms/step - age_accuracy: 0.2826 - age_loss: 1.7692 - emotion_accuracy: 0.4208 - emotion_loss: 1.5121 - gender_accuracy: 0.6443 - gender_loss: 0.7203 - loss: 3.9864"
          ]
        },
        {
          "output_type": "stream",
          "name": "stderr",
          "text": [
            "WARNING:absl:You are saving your model as an HDF5 file via `model.save()` or `keras.saving.save_model(model)`. This file format is considered legacy. We recommend using instead the native Keras format, e.g. `model.save('my_model.keras')` or `keras.saving.save_model(model, 'my_model.keras')`. \n"
          ]
        },
        {
          "output_type": "stream",
          "name": "stdout",
          "text": [
            "\b\b\b\b\b\b\b\b\b\b\b\b\b\b\b\b\b\b\b\b\b\b\b\b\b\b\b\b\b\b\b\b\b\b\b\b\b\b\b\b\b\b\b\b\b\b\b\b\b\b\b\b\b\b\b\b\b\b\b\b\b\b\b\b\b\b\b\b\b\b\b\b\b\b\b\b\b\b\b\b\b\b\b\b\b\b\b\b\b\b\b\b\b\b\b\b\b\b\b\b\b\b\b\b\b\b\b\b\b\b\b\b\b\b\b\b\b\b\b\b\b\b\b\b\b\b\b\b\b\b\b\b\b\b\b\b\b\b\b\b\b\b\b\b\b\b\b\b\b\b\b\b\b\b\b\b\b\b\b\b\b\b\b\b\b\b\b\b\b\b\b\b\b\b\b\b\b\b\b\b\b\b\b\b\b\b\b\b\b\b\b\b\b\r\u001b[1m5/5\u001b[0m \u001b[32m━━━━━━━━━━━━━━━━━━━━\u001b[0m\u001b[37m\u001b[0m \u001b[1m8s\u001b[0m 2s/step - age_accuracy: 0.2866 - age_loss: 1.7600 - emotion_accuracy: 0.4174 - emotion_loss: 1.5080 - gender_accuracy: 0.6347 - gender_loss: 0.7222 - loss: 3.9745 - val_age_accuracy: 0.3125 - val_age_loss: 2.0489 - val_emotion_accuracy: 0.3750 - val_emotion_loss: 1.5509 - val_gender_accuracy: 0.8750 - val_gender_loss: 0.6210 - val_loss: 4.2207\n",
            "Epoch 10/35\n",
            "\u001b[1m5/5\u001b[0m \u001b[32m━━━━━━━━━━━━━━━━━━━━\u001b[0m\u001b[37m\u001b[0m \u001b[1m0s\u001b[0m 1s/step - age_accuracy: 0.2941 - age_loss: 1.8146 - emotion_accuracy: 0.4634 - emotion_loss: 1.3962 - gender_accuracy: 0.6701 - gender_loss: 0.5944 - loss: 3.8083   "
          ]
        },
        {
          "output_type": "stream",
          "name": "stderr",
          "text": [
            "WARNING:absl:You are saving your model as an HDF5 file via `model.save()` or `keras.saving.save_model(model)`. This file format is considered legacy. We recommend using instead the native Keras format, e.g. `model.save('my_model.keras')` or `keras.saving.save_model(model, 'my_model.keras')`. \n"
          ]
        },
        {
          "output_type": "stream",
          "name": "stdout",
          "text": [
            "\b\b\b\b\b\b\b\b\b\b\b\b\b\b\b\b\b\b\b\b\b\b\b\b\b\b\b\b\b\b\b\b\b\b\b\b\b\b\b\b\b\b\b\b\b\b\b\b\b\b\b\b\b\b\b\b\b\b\b\b\b\b\b\b\b\b\b\b\b\b\b\b\b\b\b\b\b\b\b\b\b\b\b\b\b\b\b\b\b\b\b\b\b\b\b\b\b\b\b\b\b\b\b\b\b\b\b\b\b\b\b\b\b\b\b\b\b\b\b\b\b\b\b\b\b\b\b\b\b\b\b\b\b\b\b\b\b\b\b\b\b\b\b\b\b\b\b\b\b\b\b\b\b\b\b\b\b\b\b\b\b\b\b\b\b\b\b\b\b\b\b\b\b\b\b\b\b\b\b\b\b\b\b\b\b\b\b\b\b\b\r\u001b[1m5/5\u001b[0m \u001b[32m━━━━━━━━━━━━━━━━━━━━\u001b[0m\u001b[37m\u001b[0m \u001b[1m12s\u001b[0m 3s/step - age_accuracy: 0.2962 - age_loss: 1.8099 - emotion_accuracy: 0.4595 - emotion_loss: 1.3966 - gender_accuracy: 0.6651 - gender_loss: 0.6045 - loss: 3.8145 - val_age_accuracy: 0.3125 - val_age_loss: 2.0455 - val_emotion_accuracy: 0.3750 - val_emotion_loss: 1.5405 - val_gender_accuracy: 0.8750 - val_gender_loss: 0.6151 - val_loss: 4.2011\n",
            "Epoch 11/35\n",
            "\u001b[1m5/5\u001b[0m \u001b[32m━━━━━━━━━━━━━━━━━━━━\u001b[0m\u001b[37m\u001b[0m \u001b[1m0s\u001b[0m 3s/step - age_accuracy: 0.3080 - age_loss: 1.8011 - emotion_accuracy: 0.4313 - emotion_loss: 1.3150 - gender_accuracy: 0.6466 - gender_loss: 0.6439 - loss: 3.7585"
          ]
        },
        {
          "output_type": "stream",
          "name": "stderr",
          "text": [
            "WARNING:absl:You are saving your model as an HDF5 file via `model.save()` or `keras.saving.save_model(model)`. This file format is considered legacy. We recommend using instead the native Keras format, e.g. `model.save('my_model.keras')` or `keras.saving.save_model(model, 'my_model.keras')`. \n"
          ]
        },
        {
          "output_type": "stream",
          "name": "stdout",
          "text": [
            "\b\b\b\b\b\b\b\b\b\b\b\b\b\b\b\b\b\b\b\b\b\b\b\b\b\b\b\b\b\b\b\b\b\b\b\b\b\b\b\b\b\b\b\b\b\b\b\b\b\b\b\b\b\b\b\b\b\b\b\b\b\b\b\b\b\b\b\b\b\b\b\b\b\b\b\b\b\b\b\b\b\b\b\b\b\b\b\b\b\b\b\b\b\b\b\b\b\b\b\b\b\b\b\b\b\b\b\b\b\b\b\b\b\b\b\b\b\b\b\b\b\b\b\b\b\b\b\b\b\b\b\b\b\b\b\b\b\b\b\b\b\b\b\b\b\b\b\b\b\b\b\b\b\b\b\b\b\b\b\b\b\b\b\b\b\b\b\b\b\b\b\b\b\b\b\b\b\b\b\b\b\b\b\b\b\b\b\b\b\b\r\u001b[1m5/5\u001b[0m \u001b[32m━━━━━━━━━━━━━━━━━━━━\u001b[0m\u001b[37m\u001b[0m \u001b[1m41s\u001b[0m 10s/step - age_accuracy: 0.3055 - age_loss: 1.7967 - emotion_accuracy: 0.4394 - emotion_loss: 1.3083 - gender_accuracy: 0.6455 - gender_loss: 0.6514 - loss: 3.7542 - val_age_accuracy: 0.3125 - val_age_loss: 2.0432 - val_emotion_accuracy: 0.3750 - val_emotion_loss: 1.5308 - val_gender_accuracy: 0.8750 - val_gender_loss: 0.6079 - val_loss: 4.1819\n",
            "Epoch 12/35\n",
            "\u001b[1m5/5\u001b[0m \u001b[32m━━━━━━━━━━━━━━━━━━━━\u001b[0m\u001b[37m\u001b[0m \u001b[1m0s\u001b[0m 212ms/step - age_accuracy: 0.3495 - age_loss: 1.7173 - emotion_accuracy: 0.3177 - emotion_loss: 1.4598 - gender_accuracy: 0.6546 - gender_loss: 0.6883 - loss: 3.8634"
          ]
        },
        {
          "output_type": "stream",
          "name": "stderr",
          "text": [
            "WARNING:absl:You are saving your model as an HDF5 file via `model.save()` or `keras.saving.save_model(model)`. This file format is considered legacy. We recommend using instead the native Keras format, e.g. `model.save('my_model.keras')` or `keras.saving.save_model(model, 'my_model.keras')`. \n"
          ]
        },
        {
          "output_type": "stream",
          "name": "stdout",
          "text": [
            "\b\b\b\b\b\b\b\b\b\b\b\b\b\b\b\b\b\b\b\b\b\b\b\b\b\b\b\b\b\b\b\b\b\b\b\b\b\b\b\b\b\b\b\b\b\b\b\b\b\b\b\b\b\b\b\b\b\b\b\b\b\b\b\b\b\b\b\b\b\b\b\b\b\b\b\b\b\b\b\b\b\b\b\b\b\b\b\b\b\b\b\b\b\b\b\b\b\b\b\b\b\b\b\b\b\b\b\b\b\b\b\b\b\b\b\b\b\b\b\b\b\b\b\b\b\b\b\b\b\b\b\b\b\b\b\b\b\b\b\b\b\b\b\b\b\b\b\b\b\b\b\b\b\b\b\b\b\b\b\b\b\b\b\b\b\b\b\b\b\b\b\b\b\b\b\b\b\b\b\b\b\b\b\b\b\b\b\b\b\b\b\b\b\r\u001b[1m5/5\u001b[0m \u001b[32m━━━━━━━━━━━━━━━━━━━━\u001b[0m\u001b[37m\u001b[0m \u001b[1m10s\u001b[0m 2s/step - age_accuracy: 0.3491 - age_loss: 1.7249 - emotion_accuracy: 0.3203 - emotion_loss: 1.4567 - gender_accuracy: 0.6544 - gender_loss: 0.6908 - loss: 3.8691 - val_age_accuracy: 0.3125 - val_age_loss: 2.0403 - val_emotion_accuracy: 0.3750 - val_emotion_loss: 1.5215 - val_gender_accuracy: 0.8750 - val_gender_loss: 0.6042 - val_loss: 4.1659\n",
            "Epoch 13/35\n",
            "\u001b[1m5/5\u001b[0m \u001b[32m━━━━━━━━━━━━━━━━━━━━\u001b[0m\u001b[37m\u001b[0m \u001b[1m0s\u001b[0m 1s/step - age_accuracy: 0.2896 - age_loss: 1.7562 - emotion_accuracy: 0.4398 - emotion_loss: 1.2122 - gender_accuracy: 0.6602 - gender_loss: 0.6668 - loss: 3.6352   "
          ]
        },
        {
          "output_type": "stream",
          "name": "stderr",
          "text": [
            "WARNING:absl:You are saving your model as an HDF5 file via `model.save()` or `keras.saving.save_model(model)`. This file format is considered legacy. We recommend using instead the native Keras format, e.g. `model.save('my_model.keras')` or `keras.saving.save_model(model, 'my_model.keras')`. \n"
          ]
        },
        {
          "output_type": "stream",
          "name": "stdout",
          "text": [
            "\b\b\b\b\b\b\b\b\b\b\b\b\b\b\b\b\b\b\b\b\b\b\b\b\b\b\b\b\b\b\b\b\b\b\b\b\b\b\b\b\b\b\b\b\b\b\b\b\b\b\b\b\b\b\b\b\b\b\b\b\b\b\b\b\b\b\b\b\b\b\b\b\b\b\b\b\b\b\b\b\b\b\b\b\b\b\b\b\b\b\b\b\b\b\b\b\b\b\b\b\b\b\b\b\b\b\b\b\b\b\b\b\b\b\b\b\b\b\b\b\b\b\b\b\b\b\b\b\b\b\b\b\b\b\b\b\b\b\b\b\b\b\b\b\b\b\b\b\b\b\b\b\b\b\b\b\b\b\b\b\b\b\b\b\b\b\b\b\b\b\b\b\b\b\b\b\b\b\b\b\b\b\b\b\b\b\b\b\b\b\r\u001b[1m5/5\u001b[0m \u001b[32m━━━━━━━━━━━━━━━━━━━━\u001b[0m\u001b[37m\u001b[0m \u001b[1m13s\u001b[0m 3s/step - age_accuracy: 0.2830 - age_loss: 1.7664 - emotion_accuracy: 0.4352 - emotion_loss: 1.2210 - gender_accuracy: 0.6585 - gender_loss: 0.6688 - loss: 3.6562 - val_age_accuracy: 0.3125 - val_age_loss: 2.0375 - val_emotion_accuracy: 0.3750 - val_emotion_loss: 1.5118 - val_gender_accuracy: 0.8750 - val_gender_loss: 0.5980 - val_loss: 4.1474\n",
            "Epoch 14/35\n",
            "\u001b[1m5/5\u001b[0m \u001b[32m━━━━━━━━━━━━━━━━━━━━\u001b[0m\u001b[37m\u001b[0m \u001b[1m0s\u001b[0m 3s/step - age_accuracy: 0.4062 - age_loss: 1.6700 - emotion_accuracy: 0.4766 - emotion_loss: 1.2967 - gender_accuracy: 0.5159 - gender_loss: 0.7938 - loss: 3.7638"
          ]
        },
        {
          "output_type": "stream",
          "name": "stderr",
          "text": [
            "WARNING:absl:You are saving your model as an HDF5 file via `model.save()` or `keras.saving.save_model(model)`. This file format is considered legacy. We recommend using instead the native Keras format, e.g. `model.save('my_model.keras')` or `keras.saving.save_model(model, 'my_model.keras')`. \n"
          ]
        },
        {
          "output_type": "stream",
          "name": "stdout",
          "text": [
            "\b\b\b\b\b\b\b\b\b\b\b\b\b\b\b\b\b\b\b\b\b\b\b\b\b\b\b\b\b\b\b\b\b\b\b\b\b\b\b\b\b\b\b\b\b\b\b\b\b\b\b\b\b\b\b\b\b\b\b\b\b\b\b\b\b\b\b\b\b\b\b\b\b\b\b\b\b\b\b\b\b\b\b\b\b\b\b\b\b\b\b\b\b\b\b\b\b\b\b\b\b\b\b\b\b\b\b\b\b\b\b\b\b\b\b\b\b\b\b\b\b\b\b\b\b\b\b\b\b\b\b\b\b\b\b\b\b\b\b\b\b\b\b\b\b\b\b\b\b\b\b\b\b\b\b\b\b\b\b\b\b\b\b\b\b\b\b\b\b\b\b\b\b\b\b\b\b\b\b\b\b\b\b\b\b\b\b\b\b\b\r\u001b[1m5/5\u001b[0m \u001b[32m━━━━━━━━━━━━━━━━━━━━\u001b[0m\u001b[37m\u001b[0m \u001b[1m41s\u001b[0m 10s/step - age_accuracy: 0.4007 - age_loss: 1.6703 - emotion_accuracy: 0.4794 - emotion_loss: 1.2894 - gender_accuracy: 0.5255 - gender_loss: 0.7871 - loss: 3.7487 - val_age_accuracy: 0.3125 - val_age_loss: 2.0341 - val_emotion_accuracy: 0.3750 - val_emotion_loss: 1.5019 - val_gender_accuracy: 0.8750 - val_gender_loss: 0.5881 - val_loss: 4.1241\n",
            "Epoch 15/35\n",
            "\u001b[1m5/5\u001b[0m \u001b[32m━━━━━━━━━━━━━━━━━━━━\u001b[0m\u001b[37m\u001b[0m \u001b[1m0s\u001b[0m 187ms/step - age_accuracy: 0.4369 - age_loss: 1.7046 - emotion_accuracy: 0.4200 - emotion_loss: 1.3456 - gender_accuracy: 0.5395 - gender_loss: 0.7233 - loss: 3.7448"
          ]
        },
        {
          "output_type": "stream",
          "name": "stderr",
          "text": [
            "WARNING:absl:You are saving your model as an HDF5 file via `model.save()` or `keras.saving.save_model(model)`. This file format is considered legacy. We recommend using instead the native Keras format, e.g. `model.save('my_model.keras')` or `keras.saving.save_model(model, 'my_model.keras')`. \n"
          ]
        },
        {
          "output_type": "stream",
          "name": "stdout",
          "text": [
            "\b\b\b\b\b\b\b\b\b\b\b\b\b\b\b\b\b\b\b\b\b\b\b\b\b\b\b\b\b\b\b\b\b\b\b\b\b\b\b\b\b\b\b\b\b\b\b\b\b\b\b\b\b\b\b\b\b\b\b\b\b\b\b\b\b\b\b\b\b\b\b\b\b\b\b\b\b\b\b\b\b\b\b\b\b\b\b\b\b\b\b\b\b\b\b\b\b\b\b\b\b\b\b\b\b\b\b\b\b\b\b\b\b\b\b\b\b\b\b\b\b\b\b\b\b\b\b\b\b\b\b\b\b\b\b\b\b\b\b\b\b\b\b\b\b\b\b\b\b\b\b\b\b\b\b\b\b\b\b\b\b\b\b\b\b\b\b\b\b\b\b\b\b\b\b\b\b\b\b\b\b\b\b\b\b\b\b\b\b\b\b\b\b\r\u001b[1m5/5\u001b[0m \u001b[32m━━━━━━━━━━━━━━━━━━━━\u001b[0m\u001b[37m\u001b[0m \u001b[1m10s\u001b[0m 2s/step - age_accuracy: 0.4218 - age_loss: 1.7184 - emotion_accuracy: 0.4233 - emotion_loss: 1.3383 - gender_accuracy: 0.5518 - gender_loss: 0.7095 - loss: 3.7376 - val_age_accuracy: 0.3125 - val_age_loss: 2.0348 - val_emotion_accuracy: 0.3750 - val_emotion_loss: 1.4925 - val_gender_accuracy: 0.8750 - val_gender_loss: 0.5802 - val_loss: 4.1076\n",
            "Epoch 16/35\n",
            "\u001b[1m5/5\u001b[0m \u001b[32m━━━━━━━━━━━━━━━━━━━━\u001b[0m\u001b[37m\u001b[0m \u001b[1m0s\u001b[0m 882ms/step - age_accuracy: 0.3042 - age_loss: 1.8115 - emotion_accuracy: 0.3993 - emotion_loss: 1.2895 - gender_accuracy: 0.5769 - gender_loss: 0.6909 - loss: 3.7887"
          ]
        },
        {
          "output_type": "stream",
          "name": "stderr",
          "text": [
            "WARNING:absl:You are saving your model as an HDF5 file via `model.save()` or `keras.saving.save_model(model)`. This file format is considered legacy. We recommend using instead the native Keras format, e.g. `model.save('my_model.keras')` or `keras.saving.save_model(model, 'my_model.keras')`. \n"
          ]
        },
        {
          "output_type": "stream",
          "name": "stdout",
          "text": [
            "\b\b\b\b\b\b\b\b\b\b\b\b\b\b\b\b\b\b\b\b\b\b\b\b\b\b\b\b\b\b\b\b\b\b\b\b\b\b\b\b\b\b\b\b\b\b\b\b\b\b\b\b\b\b\b\b\b\b\b\b\b\b\b\b\b\b\b\b\b\b\b\b\b\b\b\b\b\b\b\b\b\b\b\b\b\b\b\b\b\b\b\b\b\b\b\b\b\b\b\b\b\b\b\b\b\b\b\b\b\b\b\b\b\b\b\b\b\b\b\b\b\b\b\b\b\b\b\b\b\b\b\b\b\b\b\b\b\b\b\b\b\b\b\b\b\b\b\b\b\b\b\b\b\b\b\b\b\b\b\b\b\b\b\b\b\b\b\b\b\b\b\b\b\b\b\b\b\b\b\b\b\b\b\b\b\b\b\b\b\b\b\b\b\r\u001b[1m5/5\u001b[0m \u001b[32m━━━━━━━━━━━━━━━━━━━━\u001b[0m\u001b[37m\u001b[0m \u001b[1m20s\u001b[0m 5s/step - age_accuracy: 0.3069 - age_loss: 1.8110 - emotion_accuracy: 0.4017 - emotion_loss: 1.2811 - gender_accuracy: 0.5741 - gender_loss: 0.6994 - loss: 3.7880 - val_age_accuracy: 0.3125 - val_age_loss: 2.0369 - val_emotion_accuracy: 0.3750 - val_emotion_loss: 1.4829 - val_gender_accuracy: 0.8750 - val_gender_loss: 0.5706 - val_loss: 4.0904\n",
            "Epoch 17/35\n",
            "\u001b[1m5/5\u001b[0m \u001b[32m━━━━━━━━━━━━━━━━━━━━\u001b[0m\u001b[37m\u001b[0m \u001b[1m0s\u001b[0m 1s/step - age_accuracy: 0.3629 - age_loss: 1.7554 - emotion_accuracy: 0.4369 - emotion_loss: 1.2430 - gender_accuracy: 0.6322 - gender_loss: 0.6592 - loss: 3.6590   "
          ]
        },
        {
          "output_type": "stream",
          "name": "stderr",
          "text": [
            "WARNING:absl:You are saving your model as an HDF5 file via `model.save()` or `keras.saving.save_model(model)`. This file format is considered legacy. We recommend using instead the native Keras format, e.g. `model.save('my_model.keras')` or `keras.saving.save_model(model, 'my_model.keras')`. \n"
          ]
        },
        {
          "output_type": "stream",
          "name": "stdout",
          "text": [
            "\b\b\b\b\b\b\b\b\b\b\b\b\b\b\b\b\b\b\b\b\b\b\b\b\b\b\b\b\b\b\b\b\b\b\b\b\b\b\b\b\b\b\b\b\b\b\b\b\b\b\b\b\b\b\b\b\b\b\b\b\b\b\b\b\b\b\b\b\b\b\b\b\b\b\b\b\b\b\b\b\b\b\b\b\b\b\b\b\b\b\b\b\b\b\b\b\b\b\b\b\b\b\b\b\b\b\b\b\b\b\b\b\b\b\b\b\b\b\b\b\b\b\b\b\b\b\b\b\b\b\b\b\b\b\b\b\b\b\b\b\b\b\b\b\b\b\b\b\b\b\b\b\b\b\b\b\b\b\b\b\b\b\b\b\b\b\b\b\b\b\b\b\b\b\b\b\b\b\b\b\b\b\b\b\b\b\b\b\b\b\r\u001b[1m5/5\u001b[0m \u001b[32m━━━━━━━━━━━━━━━━━━━━\u001b[0m\u001b[37m\u001b[0m \u001b[1m21s\u001b[0m 5s/step - age_accuracy: 0.3691 - age_loss: 1.7425 - emotion_accuracy: 0.4419 - emotion_loss: 1.2308 - gender_accuracy: 0.6379 - gender_loss: 0.6645 - loss: 3.6394 - val_age_accuracy: 0.3125 - val_age_loss: 2.0396 - val_emotion_accuracy: 0.3750 - val_emotion_loss: 1.4731 - val_gender_accuracy: 0.8750 - val_gender_loss: 0.5626 - val_loss: 4.0754\n",
            "Epoch 18/35\n",
            "\u001b[1m5/5\u001b[0m \u001b[32m━━━━━━━━━━━━━━━━━━━━\u001b[0m\u001b[37m\u001b[0m \u001b[1m0s\u001b[0m 1s/step - age_accuracy: 0.3855 - age_loss: 1.6334 - emotion_accuracy: 0.5504 - emotion_loss: 1.1736 - gender_accuracy: 0.5974 - gender_loss: 0.7252 - loss: 3.5314   "
          ]
        },
        {
          "output_type": "stream",
          "name": "stderr",
          "text": [
            "WARNING:absl:You are saving your model as an HDF5 file via `model.save()` or `keras.saving.save_model(model)`. This file format is considered legacy. We recommend using instead the native Keras format, e.g. `model.save('my_model.keras')` or `keras.saving.save_model(model, 'my_model.keras')`. \n"
          ]
        },
        {
          "output_type": "stream",
          "name": "stdout",
          "text": [
            "\b\b\b\b\b\b\b\b\b\b\b\b\b\b\b\b\b\b\b\b\b\b\b\b\b\b\b\b\b\b\b\b\b\b\b\b\b\b\b\b\b\b\b\b\b\b\b\b\b\b\b\b\b\b\b\b\b\b\b\b\b\b\b\b\b\b\b\b\b\b\b\b\b\b\b\b\b\b\b\b\b\b\b\b\b\b\b\b\b\b\b\b\b\b\b\b\b\b\b\b\b\b\b\b\b\b\b\b\b\b\b\b\b\b\b\b\b\b\b\b\b\b\b\b\b\b\b\b\b\b\b\b\b\b\b\b\b\b\b\b\b\b\b\b\b\b\b\b\b\b\b\b\b\b\b\b\b\b\b\b\b\b\b\b\b\b\b\b\b\b\b\b\b\b\b\b\b\b\b\b\b\b\b\b\b\b\b\b\b\b\r\u001b[1m5/5\u001b[0m \u001b[32m━━━━━━━━━━━━━━━━━━━━\u001b[0m\u001b[37m\u001b[0m \u001b[1m19s\u001b[0m 5s/step - age_accuracy: 0.3813 - age_loss: 1.6372 - emotion_accuracy: 0.5476 - emotion_loss: 1.1700 - gender_accuracy: 0.5912 - gender_loss: 0.7248 - loss: 3.5307 - val_age_accuracy: 0.3125 - val_age_loss: 2.0419 - val_emotion_accuracy: 0.3750 - val_emotion_loss: 1.4633 - val_gender_accuracy: 0.8750 - val_gender_loss: 0.5556 - val_loss: 4.0608\n",
            "Epoch 19/35\n",
            "\u001b[1m5/5\u001b[0m \u001b[32m━━━━━━━━━━━━━━━━━━━━\u001b[0m\u001b[37m\u001b[0m \u001b[1m0s\u001b[0m 2s/step - age_accuracy: 0.4129 - age_loss: 1.6372 - emotion_accuracy: 0.4875 - emotion_loss: 1.1156 - gender_accuracy: 0.5746 - gender_loss: 0.7561 - loss: 3.5089"
          ]
        },
        {
          "output_type": "stream",
          "name": "stderr",
          "text": [
            "WARNING:absl:You are saving your model as an HDF5 file via `model.save()` or `keras.saving.save_model(model)`. This file format is considered legacy. We recommend using instead the native Keras format, e.g. `model.save('my_model.keras')` or `keras.saving.save_model(model, 'my_model.keras')`. \n"
          ]
        },
        {
          "output_type": "stream",
          "name": "stdout",
          "text": [
            "\b\b\b\b\b\b\b\b\b\b\b\b\b\b\b\b\b\b\b\b\b\b\b\b\b\b\b\b\b\b\b\b\b\b\b\b\b\b\b\b\b\b\b\b\b\b\b\b\b\b\b\b\b\b\b\b\b\b\b\b\b\b\b\b\b\b\b\b\b\b\b\b\b\b\b\b\b\b\b\b\b\b\b\b\b\b\b\b\b\b\b\b\b\b\b\b\b\b\b\b\b\b\b\b\b\b\b\b\b\b\b\b\b\b\b\b\b\b\b\b\b\b\b\b\b\b\b\b\b\b\b\b\b\b\b\b\b\b\b\b\b\b\b\b\b\b\b\b\b\b\b\b\b\b\b\b\b\b\b\b\b\b\b\b\b\b\b\b\b\b\b\b\b\b\b\b\b\b\b\b\b\b\b\b\b\b\b\b\b\b\r\u001b[1m5/5\u001b[0m \u001b[32m━━━━━━━━━━━━━━━━━━━━\u001b[0m\u001b[37m\u001b[0m \u001b[1m22s\u001b[0m 5s/step - age_accuracy: 0.4087 - age_loss: 1.6396 - emotion_accuracy: 0.4896 - emotion_loss: 1.1176 - gender_accuracy: 0.5809 - gender_loss: 0.7449 - loss: 3.5022 - val_age_accuracy: 0.3125 - val_age_loss: 2.0427 - val_emotion_accuracy: 0.3750 - val_emotion_loss: 1.4529 - val_gender_accuracy: 0.8750 - val_gender_loss: 0.5526 - val_loss: 4.0482\n",
            "Epoch 20/35\n",
            "\u001b[1m5/5\u001b[0m \u001b[32m━━━━━━━━━━━━━━━━━━━━\u001b[0m\u001b[37m\u001b[0m \u001b[1m0s\u001b[0m 2s/step - age_accuracy: 0.4362 - age_loss: 1.6440 - emotion_accuracy: 0.3919 - emotion_loss: 1.4440 - gender_accuracy: 0.6905 - gender_loss: 0.6094 - loss: 3.7237"
          ]
        },
        {
          "output_type": "stream",
          "name": "stderr",
          "text": [
            "WARNING:absl:You are saving your model as an HDF5 file via `model.save()` or `keras.saving.save_model(model)`. This file format is considered legacy. We recommend using instead the native Keras format, e.g. `model.save('my_model.keras')` or `keras.saving.save_model(model, 'my_model.keras')`. \n"
          ]
        },
        {
          "output_type": "stream",
          "name": "stdout",
          "text": [
            "\b\b\b\b\b\b\b\b\b\b\b\b\b\b\b\b\b\b\b\b\b\b\b\b\b\b\b\b\b\b\b\b\b\b\b\b\b\b\b\b\b\b\b\b\b\b\b\b\b\b\b\b\b\b\b\b\b\b\b\b\b\b\b\b\b\b\b\b\b\b\b\b\b\b\b\b\b\b\b\b\b\b\b\b\b\b\b\b\b\b\b\b\b\b\b\b\b\b\b\b\b\b\b\b\b\b\b\b\b\b\b\b\b\b\b\b\b\b\b\b\b\b\b\b\b\b\b\b\b\b\b\b\b\b\b\b\b\b\b\b\b\b\b\b\b\b\b\b\b\b\b\b\b\b\b\b\b\b\b\b\b\b\b\b\b\b\b\b\b\b\b\b\b\b\b\b\b\b\b\b\b\b\b\b\b\b\b\b\b\b\r\u001b[1m5/5\u001b[0m \u001b[32m━━━━━━━━━━━━━━━━━━━━\u001b[0m\u001b[37m\u001b[0m \u001b[1m15s\u001b[0m 4s/step - age_accuracy: 0.4390 - age_loss: 1.6385 - emotion_accuracy: 0.3977 - emotion_loss: 1.4220 - gender_accuracy: 0.6888 - gender_loss: 0.6167 - loss: 3.7000 - val_age_accuracy: 0.3125 - val_age_loss: 2.0425 - val_emotion_accuracy: 0.3750 - val_emotion_loss: 1.4443 - val_gender_accuracy: 0.8750 - val_gender_loss: 0.5492 - val_loss: 4.0360\n",
            "Epoch 21/35\n",
            "\u001b[1m5/5\u001b[0m \u001b[32m━━━━━━━━━━━━━━━━━━━━\u001b[0m\u001b[37m\u001b[0m \u001b[1m0s\u001b[0m 3s/step - age_accuracy: 0.3395 - age_loss: 1.9138 - emotion_accuracy: 0.4424 - emotion_loss: 1.2797 - gender_accuracy: 0.6415 - gender_loss: 0.6626 - loss: 3.8912"
          ]
        },
        {
          "output_type": "stream",
          "name": "stderr",
          "text": [
            "WARNING:absl:You are saving your model as an HDF5 file via `model.save()` or `keras.saving.save_model(model)`. This file format is considered legacy. We recommend using instead the native Keras format, e.g. `model.save('my_model.keras')` or `keras.saving.save_model(model, 'my_model.keras')`. \n"
          ]
        },
        {
          "output_type": "stream",
          "name": "stdout",
          "text": [
            "\b\b\b\b\b\b\b\b\b\b\b\b\b\b\b\b\b\b\b\b\b\b\b\b\b\b\b\b\b\b\b\b\b\b\b\b\b\b\b\b\b\b\b\b\b\b\b\b\b\b\b\b\b\b\b\b\b\b\b\b\b\b\b\b\b\b\b\b\b\b\b\b\b\b\b\b\b\b\b\b\b\b\b\b\b\b\b\b\b\b\b\b\b\b\b\b\b\b\b\b\b\b\b\b\b\b\b\b\b\b\b\b\b\b\b\b\b\b\b\b\b\b\b\b\b\b\b\b\b\b\b\b\b\b\b\b\b\b\b\b\b\b\b\b\b\b\b\b\b\b\b\b\b\b\b\b\b\b\b\b\b\b\b\b\b\b\b\b\b\b\b\b\b\b\b\b\b\b\b\b\b\b\b\b\b\b\b\b\b\b\r\u001b[1m5/5\u001b[0m \u001b[32m━━━━━━━━━━━━━━━━━━━━\u001b[0m\u001b[37m\u001b[0m \u001b[1m20s\u001b[0m 5s/step - age_accuracy: 0.3407 - age_loss: 1.8981 - emotion_accuracy: 0.4398 - emotion_loss: 1.2834 - gender_accuracy: 0.6479 - gender_loss: 0.6536 - loss: 3.8682 - val_age_accuracy: 0.3125 - val_age_loss: 2.0445 - val_emotion_accuracy: 0.3750 - val_emotion_loss: 1.4362 - val_gender_accuracy: 0.8750 - val_gender_loss: 0.5442 - val_loss: 4.0249\n",
            "Epoch 22/35\n",
            "\u001b[1m5/5\u001b[0m \u001b[32m━━━━━━━━━━━━━━━━━━━━\u001b[0m\u001b[37m\u001b[0m \u001b[1m0s\u001b[0m 3s/step - age_accuracy: 0.4319 - age_loss: 1.6765 - emotion_accuracy: 0.7066 - emotion_loss: 0.9727 - gender_accuracy: 0.5550 - gender_loss: 0.7002 - loss: 3.3584"
          ]
        },
        {
          "output_type": "stream",
          "name": "stderr",
          "text": [
            "WARNING:absl:You are saving your model as an HDF5 file via `model.save()` or `keras.saving.save_model(model)`. This file format is considered legacy. We recommend using instead the native Keras format, e.g. `model.save('my_model.keras')` or `keras.saving.save_model(model, 'my_model.keras')`. \n"
          ]
        },
        {
          "output_type": "stream",
          "name": "stdout",
          "text": [
            "\b\b\b\b\b\b\b\b\b\b\b\b\b\b\b\b\b\b\b\b\b\b\b\b\b\b\b\b\b\b\b\b\b\b\b\b\b\b\b\b\b\b\b\b\b\b\b\b\b\b\b\b\b\b\b\b\b\b\b\b\b\b\b\b\b\b\b\b\b\b\b\b\b\b\b\b\b\b\b\b\b\b\b\b\b\b\b\b\b\b\b\b\b\b\b\b\b\b\b\b\b\b\b\b\b\b\b\b\b\b\b\b\b\b\b\b\b\b\b\b\b\b\b\b\b\b\b\b\b\b\b\b\b\b\b\b\b\b\b\b\b\b\b\b\b\b\b\b\b\b\b\b\b\b\b\b\b\b\b\b\b\b\b\b\b\b\b\b\b\b\b\b\b\b\b\b\b\b\b\b\b\b\b\b\b\b\b\b\b\b\r\u001b[1m5/5\u001b[0m \u001b[32m━━━━━━━━━━━━━━━━━━━━\u001b[0m\u001b[37m\u001b[0m \u001b[1m42s\u001b[0m 10s/step - age_accuracy: 0.4221 - age_loss: 1.6700 - emotion_accuracy: 0.6888 - emotion_loss: 0.9933 - gender_accuracy: 0.5536 - gender_loss: 0.7011 - loss: 3.3743 - val_age_accuracy: 0.3750 - val_age_loss: 2.0446 - val_emotion_accuracy: 0.3750 - val_emotion_loss: 1.4278 - val_gender_accuracy: 0.8750 - val_gender_loss: 0.5393 - val_loss: 4.0117\n",
            "Epoch 23/35\n",
            "\u001b[1m5/5\u001b[0m \u001b[32m━━━━━━━━━━━━━━━━━━━━\u001b[0m\u001b[37m\u001b[0m \u001b[1m0s\u001b[0m 189ms/step - age_accuracy: 0.3767 - age_loss: 1.7613 - emotion_accuracy: 0.4174 - emotion_loss: 1.1695 - gender_accuracy: 0.5941 - gender_loss: 0.6363 - loss: 3.5760"
          ]
        },
        {
          "output_type": "stream",
          "name": "stderr",
          "text": [
            "WARNING:absl:You are saving your model as an HDF5 file via `model.save()` or `keras.saving.save_model(model)`. This file format is considered legacy. We recommend using instead the native Keras format, e.g. `model.save('my_model.keras')` or `keras.saving.save_model(model, 'my_model.keras')`. \n"
          ]
        },
        {
          "output_type": "stream",
          "name": "stdout",
          "text": [
            "\b\b\b\b\b\b\b\b\b\b\b\b\b\b\b\b\b\b\b\b\b\b\b\b\b\b\b\b\b\b\b\b\b\b\b\b\b\b\b\b\b\b\b\b\b\b\b\b\b\b\b\b\b\b\b\b\b\b\b\b\b\b\b\b\b\b\b\b\b\b\b\b\b\b\b\b\b\b\b\b\b\b\b\b\b\b\b\b\b\b\b\b\b\b\b\b\b\b\b\b\b\b\b\b\b\b\b\b\b\b\b\b\b\b\b\b\b\b\b\b\b\b\b\b\b\b\b\b\b\b\b\b\b\b\b\b\b\b\b\b\b\b\b\b\b\b\b\b\b\b\b\b\b\b\b\b\b\b\b\b\b\b\b\b\b\b\b\b\b\b\b\b\b\b\b\b\b\b\b\b\b\b\b\b\b\b\b\b\b\b\b\b\b\r\u001b[1m5/5\u001b[0m \u001b[32m━━━━━━━━━━━━━━━━━━━━\u001b[0m\u001b[37m\u001b[0m \u001b[1m9s\u001b[0m 2s/step - age_accuracy: 0.3806 - age_loss: 1.7393 - emotion_accuracy: 0.4256 - emotion_loss: 1.1679 - gender_accuracy: 0.5951 - gender_loss: 0.6372 - loss: 3.5551 - val_age_accuracy: 0.3750 - val_age_loss: 2.0453 - val_emotion_accuracy: 0.3750 - val_emotion_loss: 1.4206 - val_gender_accuracy: 0.8750 - val_gender_loss: 0.5379 - val_loss: 4.0037\n",
            "Epoch 24/35\n",
            "\u001b[1m5/5\u001b[0m \u001b[32m━━━━━━━━━━━━━━━━━━━━\u001b[0m\u001b[37m\u001b[0m \u001b[1m0s\u001b[0m 872ms/step - age_accuracy: 0.4529 - age_loss: 1.5757 - emotion_accuracy: 0.4815 - emotion_loss: 1.0951 - gender_accuracy: 0.5544 - gender_loss: 0.6922 - loss: 3.3588"
          ]
        },
        {
          "output_type": "stream",
          "name": "stderr",
          "text": [
            "WARNING:absl:You are saving your model as an HDF5 file via `model.save()` or `keras.saving.save_model(model)`. This file format is considered legacy. We recommend using instead the native Keras format, e.g. `model.save('my_model.keras')` or `keras.saving.save_model(model, 'my_model.keras')`. \n"
          ]
        },
        {
          "output_type": "stream",
          "name": "stdout",
          "text": [
            "\b\b\b\b\b\b\b\b\b\b\b\b\b\b\b\b\b\b\b\b\b\b\b\b\b\b\b\b\b\b\b\b\b\b\b\b\b\b\b\b\b\b\b\b\b\b\b\b\b\b\b\b\b\b\b\b\b\b\b\b\b\b\b\b\b\b\b\b\b\b\b\b\b\b\b\b\b\b\b\b\b\b\b\b\b\b\b\b\b\b\b\b\b\b\b\b\b\b\b\b\b\b\b\b\b\b\b\b\b\b\b\b\b\b\b\b\b\b\b\b\b\b\b\b\b\b\b\b\b\b\b\b\b\b\b\b\b\b\b\b\b\b\b\b\b\b\b\b\b\b\b\b\b\b\b\b\b\b\b\b\b\b\b\b\b\b\b\b\b\b\b\b\b\b\b\b\b\b\b\b\b\b\b\b\b\b\b\b\b\b\b\b\b\r\u001b[1m5/5\u001b[0m \u001b[32m━━━━━━━━━━━━━━━━━━━━\u001b[0m\u001b[37m\u001b[0m \u001b[1m11s\u001b[0m 3s/step - age_accuracy: 0.4441 - age_loss: 1.5972 - emotion_accuracy: 0.4857 - emotion_loss: 1.1007 - gender_accuracy: 0.5620 - gender_loss: 0.6878 - loss: 3.3787 - val_age_accuracy: 0.3750 - val_age_loss: 2.0420 - val_emotion_accuracy: 0.3750 - val_emotion_loss: 1.4120 - val_gender_accuracy: 0.8750 - val_gender_loss: 0.5360 - val_loss: 3.9900\n",
            "Epoch 25/35\n",
            "\u001b[1m5/5\u001b[0m \u001b[32m━━━━━━━━━━━━━━━━━━━━\u001b[0m\u001b[37m\u001b[0m \u001b[1m0s\u001b[0m 3s/step - age_accuracy: 0.4277 - age_loss: 1.6577 - emotion_accuracy: 0.5085 - emotion_loss: 1.1100 - gender_accuracy: 0.7656 - gender_loss: 0.5514 - loss: 3.3191"
          ]
        },
        {
          "output_type": "stream",
          "name": "stderr",
          "text": [
            "WARNING:absl:You are saving your model as an HDF5 file via `model.save()` or `keras.saving.save_model(model)`. This file format is considered legacy. We recommend using instead the native Keras format, e.g. `model.save('my_model.keras')` or `keras.saving.save_model(model, 'my_model.keras')`. \n"
          ]
        },
        {
          "output_type": "stream",
          "name": "stdout",
          "text": [
            "\b\b\b\b\b\b\b\b\b\b\b\b\b\b\b\b\b\b\b\b\b\b\b\b\b\b\b\b\b\b\b\b\b\b\b\b\b\b\b\b\b\b\b\b\b\b\b\b\b\b\b\b\b\b\b\b\b\b\b\b\b\b\b\b\b\b\b\b\b\b\b\b\b\b\b\b\b\b\b\b\b\b\b\b\b\b\b\b\b\b\b\b\b\b\b\b\b\b\b\b\b\b\b\b\b\b\b\b\b\b\b\b\b\b\b\b\b\b\b\b\b\b\b\b\b\b\b\b\b\b\b\b\b\b\b\b\b\b\b\b\b\b\b\b\b\b\b\b\b\b\b\b\b\b\b\b\b\b\b\b\b\b\b\b\b\b\b\b\b\b\b\b\b\b\b\b\b\b\b\b\b\b\b\b\b\b\b\b\b\b\r\u001b[1m5/5\u001b[0m \u001b[32m━━━━━━━━━━━━━━━━━━━━\u001b[0m\u001b[37m\u001b[0m \u001b[1m40s\u001b[0m 10s/step - age_accuracy: 0.4168 - age_loss: 1.6620 - emotion_accuracy: 0.5134 - emotion_loss: 1.1064 - gender_accuracy: 0.7630 - gender_loss: 0.5529 - loss: 3.3214 - val_age_accuracy: 0.3125 - val_age_loss: 2.0368 - val_emotion_accuracy: 0.3750 - val_emotion_loss: 1.4028 - val_gender_accuracy: 0.8750 - val_gender_loss: 0.5330 - val_loss: 3.9726\n",
            "Epoch 26/35\n",
            "\u001b[1m5/5\u001b[0m \u001b[32m━━━━━━━━━━━━━━━━━━━━\u001b[0m\u001b[37m\u001b[0m \u001b[1m0s\u001b[0m 219ms/step - age_accuracy: 0.5122 - age_loss: 1.4238 - emotion_accuracy: 0.4141 - emotion_loss: 1.1796 - gender_accuracy: 0.5838 - gender_loss: 0.6870 - loss: 3.2728"
          ]
        },
        {
          "output_type": "stream",
          "name": "stderr",
          "text": [
            "WARNING:absl:You are saving your model as an HDF5 file via `model.save()` or `keras.saving.save_model(model)`. This file format is considered legacy. We recommend using instead the native Keras format, e.g. `model.save('my_model.keras')` or `keras.saving.save_model(model, 'my_model.keras')`. \n"
          ]
        },
        {
          "output_type": "stream",
          "name": "stdout",
          "text": [
            "\b\b\b\b\b\b\b\b\b\b\b\b\b\b\b\b\b\b\b\b\b\b\b\b\b\b\b\b\b\b\b\b\b\b\b\b\b\b\b\b\b\b\b\b\b\b\b\b\b\b\b\b\b\b\b\b\b\b\b\b\b\b\b\b\b\b\b\b\b\b\b\b\b\b\b\b\b\b\b\b\b\b\b\b\b\b\b\b\b\b\b\b\b\b\b\b\b\b\b\b\b\b\b\b\b\b\b\b\b\b\b\b\b\b\b\b\b\b\b\b\b\b\b\b\b\b\b\b\b\b\b\b\b\b\b\b\b\b\b\b\b\b\b\b\b\b\b\b\b\b\b\b\b\b\b\b\b\b\b\b\b\b\b\b\b\b\b\b\b\b\b\b\b\b\b\b\b\b\b\b\b\b\b\b\b\b\b\b\b\b\b\b\b\r\u001b[1m5/5\u001b[0m \u001b[32m━━━━━━━━━━━━━━━━━━━━\u001b[0m\u001b[37m\u001b[0m \u001b[1m12s\u001b[0m 3s/step - age_accuracy: 0.5135 - age_loss: 1.4240 - emotion_accuracy: 0.4184 - emotion_loss: 1.1778 - gender_accuracy: 0.5910 - gender_loss: 0.6829 - loss: 3.2679 - val_age_accuracy: 0.3125 - val_age_loss: 2.0313 - val_emotion_accuracy: 0.3750 - val_emotion_loss: 1.3936 - val_gender_accuracy: 0.8750 - val_gender_loss: 0.5257 - val_loss: 3.9506\n",
            "Epoch 27/35\n",
            "\u001b[1m5/5\u001b[0m \u001b[32m━━━━━━━━━━━━━━━━━━━━\u001b[0m\u001b[37m\u001b[0m \u001b[1m0s\u001b[0m 430ms/step - age_accuracy: 0.3639 - age_loss: 1.7105 - emotion_accuracy: 0.5313 - emotion_loss: 1.3182 - gender_accuracy: 0.5966 - gender_loss: 0.6659 - loss: 3.6523"
          ]
        },
        {
          "output_type": "stream",
          "name": "stderr",
          "text": [
            "WARNING:absl:You are saving your model as an HDF5 file via `model.save()` or `keras.saving.save_model(model)`. This file format is considered legacy. We recommend using instead the native Keras format, e.g. `model.save('my_model.keras')` or `keras.saving.save_model(model, 'my_model.keras')`. \n"
          ]
        },
        {
          "output_type": "stream",
          "name": "stdout",
          "text": [
            "\b\b\b\b\b\b\b\b\b\b\b\b\b\b\b\b\b\b\b\b\b\b\b\b\b\b\b\b\b\b\b\b\b\b\b\b\b\b\b\b\b\b\b\b\b\b\b\b\b\b\b\b\b\b\b\b\b\b\b\b\b\b\b\b\b\b\b\b\b\b\b\b\b\b\b\b\b\b\b\b\b\b\b\b\b\b\b\b\b\b\b\b\b\b\b\b\b\b\b\b\b\b\b\b\b\b\b\b\b\b\b\b\b\b\b\b\b\b\b\b\b\b\b\b\b\b\b\b\b\b\b\b\b\b\b\b\b\b\b\b\b\b\b\b\b\b\b\b\b\b\b\b\b\b\b\b\b\b\b\b\b\b\b\b\b\b\b\b\b\b\b\b\b\b\b\b\b\b\b\b\b\b\b\b\b\b\b\b\b\b\b\b\b\r\u001b[1m5/5\u001b[0m \u001b[32m━━━━━━━━━━━━━━━━━━━━\u001b[0m\u001b[37m\u001b[0m \u001b[1m11s\u001b[0m 3s/step - age_accuracy: 0.3744 - age_loss: 1.6931 - emotion_accuracy: 0.5317 - emotion_loss: 1.3108 - gender_accuracy: 0.6016 - gender_loss: 0.6647 - loss: 3.6257 - val_age_accuracy: 0.3125 - val_age_loss: 2.0287 - val_emotion_accuracy: 0.3750 - val_emotion_loss: 1.3855 - val_gender_accuracy: 0.8750 - val_gender_loss: 0.5186 - val_loss: 3.9328\n",
            "Epoch 28/35\n",
            "\u001b[1m5/5\u001b[0m \u001b[32m━━━━━━━━━━━━━━━━━━━━\u001b[0m\u001b[37m\u001b[0m \u001b[1m0s\u001b[0m 3s/step - age_accuracy: 0.3114 - age_loss: 1.7280 - emotion_accuracy: 0.5243 - emotion_loss: 1.1583 - gender_accuracy: 0.6208 - gender_loss: 0.6866 - loss: 3.5529"
          ]
        },
        {
          "output_type": "stream",
          "name": "stderr",
          "text": [
            "WARNING:absl:You are saving your model as an HDF5 file via `model.save()` or `keras.saving.save_model(model)`. This file format is considered legacy. We recommend using instead the native Keras format, e.g. `model.save('my_model.keras')` or `keras.saving.save_model(model, 'my_model.keras')`. \n"
          ]
        },
        {
          "output_type": "stream",
          "name": "stdout",
          "text": [
            "\b\b\b\b\b\b\b\b\b\b\b\b\b\b\b\b\b\b\b\b\b\b\b\b\b\b\b\b\b\b\b\b\b\b\b\b\b\b\b\b\b\b\b\b\b\b\b\b\b\b\b\b\b\b\b\b\b\b\b\b\b\b\b\b\b\b\b\b\b\b\b\b\b\b\b\b\b\b\b\b\b\b\b\b\b\b\b\b\b\b\b\b\b\b\b\b\b\b\b\b\b\b\b\b\b\b\b\b\b\b\b\b\b\b\b\b\b\b\b\b\b\b\b\b\b\b\b\b\b\b\b\b\b\b\b\b\b\b\b\b\b\b\b\b\b\b\b\b\b\b\b\b\b\b\b\b\b\b\b\b\b\b\b\b\b\b\b\b\b\b\b\b\b\b\b\b\b\b\b\b\b\b\b\b\b\b\b\b\b\b\r\u001b[1m5/5\u001b[0m \u001b[32m━━━━━━━━━━━━━━━━━━━━\u001b[0m\u001b[37m\u001b[0m \u001b[1m19s\u001b[0m 5s/step - age_accuracy: 0.3172 - age_loss: 1.7244 - emotion_accuracy: 0.5191 - emotion_loss: 1.1630 - gender_accuracy: 0.6196 - gender_loss: 0.6830 - loss: 3.5491 - val_age_accuracy: 0.3750 - val_age_loss: 2.0318 - val_emotion_accuracy: 0.3750 - val_emotion_loss: 1.3784 - val_gender_accuracy: 0.8750 - val_gender_loss: 0.5119 - val_loss: 3.9221\n",
            "Epoch 29/35\n",
            "\u001b[1m5/5\u001b[0m \u001b[32m━━━━━━━━━━━━━━━━━━━━\u001b[0m\u001b[37m\u001b[0m \u001b[1m0s\u001b[0m 3s/step - age_accuracy: 0.3981 - age_loss: 1.6335 - emotion_accuracy: 0.5943 - emotion_loss: 1.0088 - gender_accuracy: 0.5570 - gender_loss: 0.7458 - loss: 3.3807"
          ]
        },
        {
          "output_type": "stream",
          "name": "stderr",
          "text": [
            "WARNING:absl:You are saving your model as an HDF5 file via `model.save()` or `keras.saving.save_model(model)`. This file format is considered legacy. We recommend using instead the native Keras format, e.g. `model.save('my_model.keras')` or `keras.saving.save_model(model, 'my_model.keras')`. \n"
          ]
        },
        {
          "output_type": "stream",
          "name": "stdout",
          "text": [
            "\b\b\b\b\b\b\b\b\b\b\b\b\b\b\b\b\b\b\b\b\b\b\b\b\b\b\b\b\b\b\b\b\b\b\b\b\b\b\b\b\b\b\b\b\b\b\b\b\b\b\b\b\b\b\b\b\b\b\b\b\b\b\b\b\b\b\b\b\b\b\b\b\b\b\b\b\b\b\b\b\b\b\b\b\b\b\b\b\b\b\b\b\b\b\b\b\b\b\b\b\b\b\b\b\b\b\b\b\b\b\b\b\b\b\b\b\b\b\b\b\b\b\b\b\b\b\b\b\b\b\b\b\b\b\b\b\b\b\b\b\b\b\b\b\b\b\b\b\b\b\b\b\b\b\b\b\b\b\b\b\b\b\b\b\b\b\b\b\b\b\b\b\b\b\b\b\b\b\b\b\b\b\b\b\b\b\b\b\b\b\r\u001b[1m5/5\u001b[0m \u001b[32m━━━━━━━━━━━━━━━━━━━━\u001b[0m\u001b[37m\u001b[0m \u001b[1m21s\u001b[0m 5s/step - age_accuracy: 0.4007 - age_loss: 1.6350 - emotion_accuracy: 0.5841 - emotion_loss: 1.0182 - gender_accuracy: 0.5597 - gender_loss: 0.7440 - loss: 3.3878 - val_age_accuracy: 0.2500 - val_age_loss: 2.0404 - val_emotion_accuracy: 0.3750 - val_emotion_loss: 1.3727 - val_gender_accuracy: 0.8750 - val_gender_loss: 0.5071 - val_loss: 3.9202\n",
            "Epoch 30/35\n",
            "\u001b[1m5/5\u001b[0m \u001b[32m━━━━━━━━━━━━━━━━━━━━\u001b[0m\u001b[37m\u001b[0m \u001b[1m19s\u001b[0m 5s/step - age_accuracy: 0.4088 - age_loss: 1.6046 - emotion_accuracy: 0.5564 - emotion_loss: 1.0984 - gender_accuracy: 0.7995 - gender_loss: 0.4970 - loss: 3.2011 - val_age_accuracy: 0.1250 - val_age_loss: 2.0513 - val_emotion_accuracy: 0.3750 - val_emotion_loss: 1.3677 - val_gender_accuracy: 0.8750 - val_gender_loss: 0.5062 - val_loss: 3.9252\n",
            "Epoch 31/35\n",
            "\u001b[1m5/5\u001b[0m \u001b[32m━━━━━━━━━━━━━━━━━━━━\u001b[0m\u001b[37m\u001b[0m \u001b[1m22s\u001b[0m 5s/step - age_accuracy: 0.5163 - age_loss: 1.3676 - emotion_accuracy: 0.5212 - emotion_loss: 1.1209 - gender_accuracy: 0.6613 - gender_loss: 0.6648 - loss: 3.1534 - val_age_accuracy: 0.1250 - val_age_loss: 2.0575 - val_emotion_accuracy: 0.3750 - val_emotion_loss: 1.3632 - val_gender_accuracy: 0.8750 - val_gender_loss: 0.5103 - val_loss: 3.9310\n",
            "Epoch 32/35\n",
            "\u001b[1m5/5\u001b[0m \u001b[32m━━━━━━━━━━━━━━━━━━━━\u001b[0m\u001b[37m\u001b[0m \u001b[1m21s\u001b[0m 5s/step - age_accuracy: 0.3766 - age_loss: 1.6179 - emotion_accuracy: 0.5515 - emotion_loss: 1.0028 - gender_accuracy: 0.6369 - gender_loss: 0.6393 - loss: 3.2867 - val_age_accuracy: 0.1250 - val_age_loss: 2.0598 - val_emotion_accuracy: 0.3750 - val_emotion_loss: 1.3585 - val_gender_accuracy: 0.8750 - val_gender_loss: 0.5075 - val_loss: 3.9258\n",
            "Epoch 33/35\n",
            "\u001b[1m5/5\u001b[0m \u001b[32m━━━━━━━━━━━━━━━━━━━━\u001b[0m\u001b[37m\u001b[0m \u001b[1m20s\u001b[0m 5s/step - age_accuracy: 0.3971 - age_loss: 1.5002 - emotion_accuracy: 0.4348 - emotion_loss: 1.0878 - gender_accuracy: 0.5721 - gender_loss: 0.7242 - loss: 3.3207 - val_age_accuracy: 0.1250 - val_age_loss: 2.0626 - val_emotion_accuracy: 0.3750 - val_emotion_loss: 1.3527 - val_gender_accuracy: 0.8750 - val_gender_loss: 0.5086 - val_loss: 3.9239\n",
            "Epoch 34/35\n",
            "\u001b[1m5/5\u001b[0m \u001b[32m━━━━━━━━━━━━━━━━━━━━\u001b[0m\u001b[37m\u001b[0m \u001b[1m21s\u001b[0m 5s/step - age_accuracy: 0.3763 - age_loss: 1.6068 - emotion_accuracy: 0.3895 - emotion_loss: 1.2883 - gender_accuracy: 0.7049 - gender_loss: 0.5998 - loss: 3.4903 - val_age_accuracy: 0.1250 - val_age_loss: 2.0649 - val_emotion_accuracy: 0.3750 - val_emotion_loss: 1.3491 - val_gender_accuracy: 0.8750 - val_gender_loss: 0.5067 - val_loss: 3.9207\n",
            "Epoch 35/35\n",
            "\u001b[1m5/5\u001b[0m \u001b[32m━━━━━━━━━━━━━━━━━━━━\u001b[0m\u001b[37m\u001b[0m \u001b[1m0s\u001b[0m 3s/step - age_accuracy: 0.3246 - age_loss: 1.5425 - emotion_accuracy: 0.5718 - emotion_loss: 1.0060 - gender_accuracy: 0.7883 - gender_loss: 0.4982 - loss: 3.0419"
          ]
        },
        {
          "output_type": "stream",
          "name": "stderr",
          "text": [
            "WARNING:absl:You are saving your model as an HDF5 file via `model.save()` or `keras.saving.save_model(model)`. This file format is considered legacy. We recommend using instead the native Keras format, e.g. `model.save('my_model.keras')` or `keras.saving.save_model(model, 'my_model.keras')`. \n"
          ]
        },
        {
          "output_type": "stream",
          "name": "stdout",
          "text": [
            "\b\b\b\b\b\b\b\b\b\b\b\b\b\b\b\b\b\b\b\b\b\b\b\b\b\b\b\b\b\b\b\b\b\b\b\b\b\b\b\b\b\b\b\b\b\b\b\b\b\b\b\b\b\b\b\b\b\b\b\b\b\b\b\b\b\b\b\b\b\b\b\b\b\b\b\b\b\b\b\b\b\b\b\b\b\b\b\b\b\b\b\b\b\b\b\b\b\b\b\b\b\b\b\b\b\b\b\b\b\b\b\b\b\b\b\b\b\b\b\b\b\b\b\b\b\b\b\b\b\b\b\b\b\b\b\b\b\b\b\b\b\b\b\b\b\b\b\b\b\b\b\b\b\b\b\b\b\b\b\b\b\b\b\b\b\b\b\b\b\b\b\b\b\b\b\b\b\b\b\b\b\b\b\b\b\b\b\b\b\b\r\u001b[1m5/5\u001b[0m \u001b[32m━━━━━━━━━━━━━━━━━━━━\u001b[0m\u001b[37m\u001b[0m \u001b[1m21s\u001b[0m 5s/step - age_accuracy: 0.3372 - age_loss: 1.5379 - emotion_accuracy: 0.5698 - emotion_loss: 1.0076 - gender_accuracy: 0.7880 - gender_loss: 0.4957 - loss: 3.0353 - val_age_accuracy: 0.2500 - val_age_loss: 2.0652 - val_emotion_accuracy: 0.3750 - val_emotion_loss: 1.3432 - val_gender_accuracy: 0.8750 - val_gender_loss: 0.4993 - val_loss: 3.9077\n"
          ]
        }
      ]
    }
  ]
}